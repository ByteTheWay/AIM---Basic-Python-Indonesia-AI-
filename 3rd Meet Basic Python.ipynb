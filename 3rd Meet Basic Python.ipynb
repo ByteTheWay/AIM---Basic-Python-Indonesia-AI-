{
 "cells": [
  {
   "cell_type": "markdown",
   "metadata": {},
   "source": [
    "# Range"
   ]
  },
  {
   "cell_type": "code",
   "execution_count": 2,
   "metadata": {},
   "outputs": [
    {
     "name": "stdout",
     "output_type": "stream",
     "text": [
      "0\n",
      "1\n",
      "2\n",
      "3\n"
     ]
    }
   ],
   "source": [
    "for i in range (4):\n",
    "    print(i)"
   ]
  },
  {
   "cell_type": "code",
   "execution_count": 4,
   "metadata": {},
   "outputs": [
    {
     "name": "stdout",
     "output_type": "stream",
     "text": [
      "1\n",
      "2\n",
      "3\n",
      "4\n"
     ]
    }
   ],
   "source": [
    "for j in range(1,5):\n",
    "    print(j)"
   ]
  },
  {
   "cell_type": "code",
   "execution_count": 5,
   "metadata": {},
   "outputs": [
    {
     "name": "stdout",
     "output_type": "stream",
     "text": [
      "1\n",
      "3\n",
      "5\n",
      "7\n",
      "9\n",
      "11\n",
      "13\n",
      "15\n",
      "17\n",
      "19\n"
     ]
    }
   ],
   "source": [
    "for k in range(1,20,2):\n",
    "    print(k)"
   ]
  },
  {
   "cell_type": "markdown",
   "metadata": {},
   "source": [
    "# Break"
   ]
  },
  {
   "cell_type": "code",
   "execution_count": 6,
   "metadata": {},
   "outputs": [
    {
     "name": "stdout",
     "output_type": "stream",
     "text": [
      "1\n",
      "2\n"
     ]
    }
   ],
   "source": [
    "for l in range(1,5):\n",
    "    if l == 3:\n",
    "        break\n",
    "    print(l)"
   ]
  },
  {
   "cell_type": "code",
   "execution_count": 13,
   "metadata": {},
   "outputs": [
    {
     "name": "stdout",
     "output_type": "stream",
     "text": [
      "3\n"
     ]
    }
   ],
   "source": [
    "for l in range(1,5):\n",
    "    if l == 3:\n",
    "        break\n",
    "print(l)"
   ]
  },
  {
   "cell_type": "markdown",
   "metadata": {},
   "source": [
    "# Continue"
   ]
  },
  {
   "cell_type": "code",
   "execution_count": 15,
   "metadata": {},
   "outputs": [
    {
     "name": "stdout",
     "output_type": "stream",
     "text": [
      "1\n",
      "3\n",
      "4\n"
     ]
    }
   ],
   "source": [
    "for l in range (1,5):\n",
    "    if l == 2:\n",
    "        continue\n",
    "    print(l)"
   ]
  },
  {
   "cell_type": "markdown",
   "metadata": {},
   "source": [
    "# List"
   ]
  },
  {
   "cell_type": "code",
   "execution_count": 16,
   "metadata": {},
   "outputs": [
    {
     "name": "stdout",
     "output_type": "stream",
     "text": [
      "['a', 'b', 'c', 'd', 'e']\n",
      "['b', 'c', 'd', 'e']\n"
     ]
    }
   ],
   "source": [
    "mylist =['a','b','c','d','e']\n",
    "print(mylist)\n",
    "mylist.remove('a')\n",
    "print(mylist)"
   ]
  },
  {
   "cell_type": "markdown",
   "metadata": {},
   "source": [
    "# Nested loop"
   ]
  },
  {
   "cell_type": "code",
   "execution_count": 27,
   "metadata": {},
   "outputs": [
    {
     "name": "stdout",
     "output_type": "stream",
     "text": [
      "i:0, j:0\n",
      "i:0, j:1\n",
      "i:0, j:2\n",
      "\n",
      "i:1, j:0\n",
      "i:1, j:1\n",
      "i:1, j:2\n",
      "\n"
     ]
    }
   ],
   "source": [
    "for i in range(2):\n",
    "    for j in range(3):\n",
    "        print('i:{}, j:{}'.format(i,j))\n",
    "    print()"
   ]
  },
  {
   "cell_type": "code",
   "execution_count": 26,
   "metadata": {},
   "outputs": [
    {
     "name": "stdout",
     "output_type": "stream",
     "text": [
      "i:0, j:0  i:0, j:1  i:0, j:2  \n",
      "i:1, j:0  i:1, j:1  i:1, j:2  \n"
     ]
    }
   ],
   "source": [
    "for i in range(2):\n",
    "    for j in range(3):\n",
    "        print('i:{}, j:{} '.format(i,j),end= \" \")\n",
    "    print()"
   ]
  },
  {
   "cell_type": "code",
   "execution_count": 30,
   "metadata": {},
   "outputs": [
    {
     "name": "stdout",
     "output_type": "stream",
     "text": [
      "0-0\n",
      "0-1\n",
      "0-2\n",
      "0-3\n",
      "\n",
      "1-0\n",
      "1-1\n",
      "1-2\n",
      "1-3\n",
      "\n",
      "2-0\n",
      "2-1\n",
      "2-2\n",
      "2-3\n",
      "\n",
      "3-0\n",
      "3-1\n",
      "3-2\n",
      "3-3\n",
      "\n",
      "4-0\n",
      "4-1\n",
      "4-2\n",
      "4-3\n",
      "\n"
     ]
    }
   ],
   "source": [
    "for row in range(5):\n",
    "    for column in range(4):\n",
    "        print('{}-{}'.format(row,column))\n",
    "    print()"
   ]
  },
  {
   "cell_type": "markdown",
   "metadata": {},
   "source": [
    "# Advanced loop\n",
    "\n",
    "We are requested to create a program to admit some customer's input as much as n by means of n is integer consisting Name and Age. For instance:\n",
    "\n",
    "Amount of customer: 2\n",
    "\n",
    "Cust1:\n",
    "Name = Fadhlan\n",
    "Age = 20\n",
    "\n",
    "Cust2:\n",
    "    Name = Kanye\n",
    "    Age = 21\n",
    "    \n",
    "Customers that are already registered are:\n",
    "Customer Fadhlan age 20\n",
    "Customer Kanye age 21"
   ]
  },
  {
   "cell_type": "code",
   "execution_count": 3,
   "metadata": {},
   "outputs": [
    {
     "name": "stdout",
     "output_type": "stream",
     "text": [
      "How many customer? 3\n",
      "\n",
      "Insert customer's data below:\n",
      "\n",
      "Customer 1\n",
      "Name: Fadhlan\n",
      "Age: 20\n",
      "Customer 2\n",
      "Name: Kanye\n",
      "Age: 21\n",
      "Customer 3\n",
      "Name: Beatrice\n",
      "Age: 22\n",
      "\n",
      "Customers that are registered is:\n",
      "Customer Fadhlan, 20 years old\n",
      "Customer Kanye, 21 years old\n",
      "Customer Beatrice, 22 years old\n"
     ]
    }
   ],
   "source": [
    "count = int(input(\"How many customer? \"))\n",
    "\n",
    "cust_name = []\n",
    "cust_age = []\n",
    "\n",
    "print(\"\\nInsert customer's data below:\\n\")\n",
    "\n",
    "for i in range(count):\n",
    "    print(\"Customer {}\".format(i+1))\n",
    "    name = input(\"Name: \")\n",
    "    age = input(\"Age: \")\n",
    "    \n",
    "    cust_name.append(name)\n",
    "    cust_age.append(age)\n",
    "\n",
    "print(\"\\nCustomers that are registered is:\")\n",
    "\n",
    "for x in range(len(cust_name)):\n",
    "    print(\"Customer {}, {} years old\".format(cust_name[x], cust_age[x]))"
   ]
  },
  {
   "cell_type": "code",
   "execution_count": 5,
   "metadata": {},
   "outputs": [
    {
     "name": "stdout",
     "output_type": "stream",
     "text": [
      "Customer ['Fadhlan', 'Kanye', 'Beatrice'], ['20', '21', '22'] years old\n"
     ]
    }
   ],
   "source": [
    "print(\"Customer {}, {} years old\".format(cust_name, cust_age))"
   ]
  },
  {
   "cell_type": "markdown",
   "metadata": {},
   "source": [
    "# While"
   ]
  },
  {
   "cell_type": "code",
   "execution_count": 8,
   "metadata": {},
   "outputs": [
    {
     "name": "stdout",
     "output_type": "stream",
     "text": [
      "1\n",
      "2\n",
      "3\n",
      "4\n",
      "5\n"
     ]
    }
   ],
   "source": [
    "i = 1\n",
    "while i < 6:\n",
    "    print(i)\n",
    "    i+=1"
   ]
  },
  {
   "cell_type": "code",
   "execution_count": 9,
   "metadata": {},
   "outputs": [],
   "source": [
    "# While true"
   ]
  },
  {
   "cell_type": "code",
   "execution_count": 19,
   "metadata": {},
   "outputs": [
    {
     "name": "stdout",
     "output_type": "stream",
     "text": [
      "\n",
      "Please type in the math operation you would like to complete:\n",
      "+ for addition\n",
      "- for subtraction\n",
      "* for multiplication\n",
      "/ for division\n",
      "+\n",
      "\n",
      "First number: 1\n",
      "Second number: 2\n",
      "\n",
      "1 + 2 =  3\n"
     ]
    }
   ],
   "source": [
    "#Without while true\n",
    "\n",
    "operation = input('''\n",
    "Please type in the math operation you would like to complete:\n",
    "+ for addition\n",
    "- for subtraction\n",
    "* for multiplication\n",
    "/ for division\n",
    "''')\n",
    "\n",
    "number1 = int(input('\\nFirst number: '))\n",
    "number2 = int(input('Second number: '))\n",
    "\n",
    "if operation == '+':\n",
    "    #Addition\n",
    "    print('\\n{} + {} = '.format(number1, number2), number1+number2)\n",
    "\n",
    "elif operation == '-':\n",
    "    #Subtraction\n",
    "    print('\\n{} - {} = '.format(number1, number2), number1-number2)\n",
    "\n",
    "elif operation == '*':\n",
    "    #Multiplication\n",
    "    print('\\n{} * {} = '.format(number1, number2), number1*number2)\n",
    "\n",
    "else:\n",
    "    #Division\n",
    "    print('\\n{} / {} = '.format(number1, number2),  number1/number2)"
   ]
  },
  {
   "cell_type": "code",
   "execution_count": 3,
   "metadata": {},
   "outputs": [
    {
     "name": "stdout",
     "output_type": "stream",
     "text": [
      "\n",
      "    Please type in the math operation you would like to complete:\n",
      "    + for addition\n",
      "    - for subtraction\n",
      "    * for multiplication\n",
      "    / for division\n",
      "    x for exit\n",
      "    +\n",
      "\n",
      "First number: 1\n",
      "Second number: 2\n",
      "\n",
      "1 + 2 =  3\n",
      "\n",
      "    Please type in the math operation you would like to complete:\n",
      "    + for addition\n",
      "    - for subtraction\n",
      "    * for multiplication\n",
      "    / for division\n",
      "    x for exit\n",
      "    *\n",
      "\n",
      "First number: 5\n",
      "Second number: 5\n",
      "\n",
      "5 * 5 =  25\n",
      "\n",
      "    Please type in the math operation you would like to complete:\n",
      "    + for addition\n",
      "    - for subtraction\n",
      "    * for multiplication\n",
      "    / for division\n",
      "    x for exit\n",
      "    t\n",
      "\n",
      " Sorry, your input is invalid\n",
      "\n",
      "    Please type in the math operation you would like to complete:\n",
      "    + for addition\n",
      "    - for subtraction\n",
      "    * for multiplication\n",
      "    / for division\n",
      "    x for exit\n",
      "    x\n",
      "\n",
      " Thank you\n"
     ]
    }
   ],
   "source": [
    "#With while true\n",
    "\n",
    "while True:\n",
    "    operation = input('''\n",
    "    Please type in the math operation you would like to complete:\n",
    "    + for addition\n",
    "    - for subtraction\n",
    "    * for multiplication\n",
    "    / for division\n",
    "    x for exit\n",
    "    ''')\n",
    "\n",
    "    if operation == '+':\n",
    "        #Addition\n",
    "        number1 = int(input('\\nFirst number: '))\n",
    "        number2 = int(input('Second number: '))\n",
    "        print('\\n{} + {} = '.format(number1, number2), number1+number2)\n",
    "    \n",
    "    elif operation == '-':\n",
    "        #Subtraction\n",
    "        number1 = int(input('\\nFirst number: '))\n",
    "        number2 = int(input('Second number: '))\n",
    "        print('\\n{} - {} = '.format(number1, number2), number1-number2)\n",
    "    \n",
    "    elif operation == '*':\n",
    "        #Multiplication\n",
    "        number1 = int(input('\\nFirst number: '))\n",
    "        number2 = int(input('Second number: '))\n",
    "        print('\\n{} * {} = '.format(number1, number2), number1*number2)\n",
    "    \n",
    "    elif operation == '/':\n",
    "        #Division\n",
    "        number1 = int(input('\\nFirst number: '))\n",
    "        number2 = int(input('Second number: '))\n",
    "        print('\\n{} / {} = '.format(number1, number2),  number1/number2)\n",
    "    \n",
    "    elif operation == 'x':\n",
    "        #Exit\n",
    "        print(\"\\n Thank you\")\n",
    "        break\n",
    "    \n",
    "    else:\n",
    "        print(\"\\n Sorry, your input is invalid\")"
   ]
  },
  {
   "cell_type": "code",
   "execution_count": 10,
   "metadata": {},
   "outputs": [
    {
     "name": "stdout",
     "output_type": "stream",
     "text": [
      "Height of asterisk pyramid:6\n",
      "                  \n",
      "               \n",
      "             *  * \n",
      "          *  *  *  * \n",
      "       *  *  *  *  *  * \n",
      "    *  *  *  *  *  *  *  * \n",
      " *  *  *  *  *  *  *  *  *  * \n",
      "\n"
     ]
    }
   ],
   "source": [
    "string = \"\"\n",
    "\n",
    "x = int(input(\"Height of pyramid:\"))\n",
    "row = x\n",
    "\n",
    "# Looping row\n",
    "while row >= 0:\n",
    "\n",
    "    # Looping for the column empty space\n",
    "    column = row\n",
    "    while column > 0:\n",
    "        string = string + \"   \"\n",
    "        column = column - 1\n",
    "    \n",
    "    # Looping star for the left side of its row\n",
    "    left = 1\n",
    "    while left < (x - (row)):\n",
    "        string = string + \" * \"\n",
    "        left = left + 1\n",
    "        \n",
    "    # Looping star for the right side of its row\n",
    "    right = 1\n",
    "    while right < left :\n",
    "        string = string + \" * \"\n",
    "        right = right + 1\n",
    "\n",
    "    string = string + \"\\n\"\n",
    "    row = row - 1\n",
    "    \n",
    "print (string)"
   ]
  },
  {
   "cell_type": "code",
   "execution_count": 9,
   "metadata": {},
   "outputs": [
    {
     "name": "stdout",
     "output_type": "stream",
     "text": [
      "Height of asterisk pyramid:6\n",
      "                  \n",
      "                * \n",
      "             *  *  * \n",
      "          *  *  *  *  * \n",
      "       *  *  *  *  *  *  * \n",
      "    *  *  *  *  *  *  *  *  * \n",
      " *  *  *  *  *  *  *  *  *  *  * \n",
      "\n"
     ]
    }
   ],
   "source": [
    "string = \"\"\n",
    "\n",
    "x = int(input(\"Height of asterisk pyramid:\"))\n",
    "row = x\n",
    "\n",
    "# Looping row\n",
    "while row >= 0:\n",
    "\n",
    "    # Looping for the column empty space\n",
    "    column = row\n",
    "    while column > 0:\n",
    "        string = string + \"   \"\n",
    "        column = column - 1\n",
    "    \n",
    "    # Looping star for the left side of its row\n",
    "    left = 1\n",
    "    while left < (x - (row-1)):\n",
    "        string = string + \" * \"\n",
    "        left = left + 1\n",
    "        \n",
    "    # Looping star for the right side of its row\n",
    "    right = 1\n",
    "    while right < left -1:\n",
    "        string = string + \" * \"\n",
    "        right = right + 1\n",
    "\n",
    "    string = string + \"\\n\"\n",
    "    row = row - 1\n",
    "    \n",
    "print (string)"
   ]
  }
 ],
 "metadata": {
  "kernelspec": {
   "display_name": "Python 3",
   "language": "python",
   "name": "python3"
  },
  "language_info": {
   "codemirror_mode": {
    "name": "ipython",
    "version": 3
   },
   "file_extension": ".py",
   "mimetype": "text/x-python",
   "name": "python",
   "nbconvert_exporter": "python",
   "pygments_lexer": "ipython3",
   "version": "3.8.5"
  }
 },
 "nbformat": 4,
 "nbformat_minor": 4
}
