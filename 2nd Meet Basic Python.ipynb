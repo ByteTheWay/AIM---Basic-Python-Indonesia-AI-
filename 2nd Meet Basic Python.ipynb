{
 "cells": [
  {
   "cell_type": "markdown",
   "metadata": {},
   "source": [
    "# User Input"
   ]
  },
  {
   "cell_type": "code",
   "execution_count": 1,
   "metadata": {},
   "outputs": [
    {
     "name": "stdout",
     "output_type": "stream",
     "text": [
      "Insert name: Fadhlan\n",
      "Fadhlan\n"
     ]
    }
   ],
   "source": [
    "name = input(\"Insert name: \")\n",
    "print(name)"
   ]
  },
  {
   "cell_type": "code",
   "execution_count": 2,
   "metadata": {},
   "outputs": [
    {
     "name": "stdout",
     "output_type": "stream",
     "text": [
      "<class 'str'>\n"
     ]
    }
   ],
   "source": [
    "print(type(name))"
   ]
  },
  {
   "cell_type": "code",
   "execution_count": 3,
   "metadata": {},
   "outputs": [
    {
     "name": "stdout",
     "output_type": "stream",
     "text": [
      "Your name is Fadhlan\n"
     ]
    }
   ],
   "source": [
    "print(\"Your name is \" + name)"
   ]
  },
  {
   "cell_type": "code",
   "execution_count": 5,
   "metadata": {},
   "outputs": [
    {
     "name": "stdout",
     "output_type": "stream",
     "text": [
      "Insert your age: 20\n",
      "Your name is Fadhlan and you are 20 years old\n"
     ]
    }
   ],
   "source": [
    "age = int(input(\"Insert your age: \"))\n",
    "print(\"Your name is \" + name + \" and you are \" + str(age) + \" years old\")"
   ]
  },
  {
   "cell_type": "code",
   "execution_count": 8,
   "metadata": {},
   "outputs": [
    {
     "name": "stdout",
     "output_type": "stream",
     "text": [
      "Your age is 20\n"
     ]
    }
   ],
   "source": [
    "print(\"Your age is\", age) #after \"is\" would have space afterwards in this term"
   ]
  },
  {
   "cell_type": "markdown",
   "metadata": {},
   "source": [
    "# String Operation"
   ]
  },
  {
   "cell_type": "code",
   "execution_count": 9,
   "metadata": {},
   "outputs": [
    {
     "name": "stdout",
     "output_type": "stream",
     "text": [
      "Hello, world!\n"
     ]
    }
   ],
   "source": [
    "a = \"Hello, world!\"\n",
    "print(a)"
   ]
  },
  {
   "cell_type": "code",
   "execution_count": 10,
   "metadata": {},
   "outputs": [
    {
     "name": "stdout",
     "output_type": "stream",
     "text": [
      "o\n"
     ]
    }
   ],
   "source": [
    "print(a[4])"
   ]
  },
  {
   "cell_type": "code",
   "execution_count": 11,
   "metadata": {},
   "outputs": [
    {
     "name": "stdout",
     "output_type": "stream",
     "text": [
      "ell\n"
     ]
    }
   ],
   "source": [
    "print(a[1:4])"
   ]
  },
  {
   "cell_type": "code",
   "execution_count": 13,
   "metadata": {},
   "outputs": [
    {
     "name": "stdout",
     "output_type": "stream",
     "text": [
      "world!\n"
     ]
    }
   ],
   "source": [
    "print(a[7:])"
   ]
  },
  {
   "cell_type": "code",
   "execution_count": 14,
   "metadata": {},
   "outputs": [
    {
     "name": "stdout",
     "output_type": "stream",
     "text": [
      "l\n"
     ]
    }
   ],
   "source": [
    "print(a[-3])"
   ]
  },
  {
   "cell_type": "code",
   "execution_count": 15,
   "metadata": {},
   "outputs": [
    {
     "name": "stdout",
     "output_type": "stream",
     "text": [
      "13\n"
     ]
    }
   ],
   "source": [
    "print(len(a))"
   ]
  },
  {
   "cell_type": "markdown",
   "metadata": {},
   "source": [
    "# String Formatting"
   ]
  },
  {
   "cell_type": "code",
   "execution_count": 17,
   "metadata": {},
   "outputs": [
    {
     "name": "stdout",
     "output_type": "stream",
     "text": [
      "Insert your name: Fadhlan\n",
      "Insert your age: 20\n",
      "My name is Fadhlan, and i am 20 years old\n",
      "My name is Fadhlan and i am 20 years old\n",
      "('My name is', 'Fadhlan', 'and i am', 20, 'years old')\n",
      "My name is Fadhlan and i am 20 years old\n"
     ]
    }
   ],
   "source": [
    "name = input(\"Insert your name: \")\n",
    "age = int(input(\"Insert your age: \"))\n",
    "\n",
    "text1 = \"My name is {}, and i am {} years old\".format(name, age)\n",
    "print(text1)\n",
    "text2 = \"My name is \" + name + \" and i am \" + str(age) + \" years old\"\n",
    "print(text2)\n",
    "text3 = \"My name is\", name, \"and i am\", age, \"years old\"\n",
    "print(text3)\n",
    "print(\"My name is\", name, \"and i am\", age, \"years old\")"
   ]
  },
  {
   "cell_type": "markdown",
   "metadata": {},
   "source": [
    "# Conditional If"
   ]
  },
  {
   "cell_type": "code",
   "execution_count": 2,
   "metadata": {},
   "outputs": [
    {
     "name": "stdout",
     "output_type": "stream",
     "text": [
      "a lower than b\n"
     ]
    }
   ],
   "source": [
    "a = 10\n",
    "b = 15\n",
    "\n",
    "if a > b:\n",
    "    print(\"a is greater than b\")\n",
    "elif a == b:\n",
    "    print(\"a equals to b\")\n",
    "else:\n",
    "    print(\"a lower than b\")"
   ]
  },
  {
   "cell_type": "code",
   "execution_count": 3,
   "metadata": {},
   "outputs": [
    {
     "name": "stdout",
     "output_type": "stream",
     "text": [
      "A fruit is different to B\n"
     ]
    }
   ],
   "source": [
    "A = \"Apple\"\n",
    "B = \"Date\"\n",
    "\n",
    "if A != B:\n",
    "    print(\"A fruit is different to B\")\n",
    "else:\n",
    "    print(\"A fruit is the same with B\")"
   ]
  },
  {
   "cell_type": "code",
   "execution_count": 4,
   "metadata": {},
   "outputs": [
    {
     "name": "stdout",
     "output_type": "stream",
     "text": [
      "True\n",
      "False\n",
      "True\n",
      "False\n",
      "True\n"
     ]
    }
   ],
   "source": [
    "print(True and True)\n",
    "print(True and False)\n",
    "print(True or False)\n",
    "print(not True)\n",
    "print(not False)"
   ]
  },
  {
   "cell_type": "markdown",
   "metadata": {},
   "source": [
    "# List"
   ]
  },
  {
   "cell_type": "code",
   "execution_count": 20,
   "metadata": {},
   "outputs": [
    {
     "name": "stdout",
     "output_type": "stream",
     "text": [
      "[1, 2, 3, 100]\n"
     ]
    }
   ],
   "source": [
    "mylist = []\n",
    "mylist.append(1)\n",
    "mylist.append(2)\n",
    "mylist.append(3)\n",
    "mylist.append(100)\n",
    "print(mylist)"
   ]
  },
  {
   "cell_type": "code",
   "execution_count": 6,
   "metadata": {},
   "outputs": [
    {
     "name": "stdout",
     "output_type": "stream",
     "text": [
      "4\n"
     ]
    }
   ],
   "source": [
    "print(len(mylist))"
   ]
  },
  {
   "cell_type": "code",
   "execution_count": 8,
   "metadata": {},
   "outputs": [
    {
     "name": "stdout",
     "output_type": "stream",
     "text": [
      "['a', 'b']\n",
      "2\n",
      "a\n"
     ]
    }
   ],
   "source": [
    "mylist2 = []\n",
    "mylist2.append(\"a\")\n",
    "mylist2.append(\"b\")\n",
    "print(mylist2)\n",
    "print(len(mylist2))\n",
    "print(mylist2[0])"
   ]
  },
  {
   "cell_type": "code",
   "execution_count": 18,
   "metadata": {},
   "outputs": [],
   "source": [
    "# For loop in list"
   ]
  },
  {
   "cell_type": "code",
   "execution_count": 9,
   "metadata": {},
   "outputs": [
    {
     "name": "stdout",
     "output_type": "stream",
     "text": [
      "Grade:1\n",
      "Grade:2\n",
      "Grade:3\n",
      "Grade:100\n"
     ]
    }
   ],
   "source": [
    "for i in mylist:\n",
    "    print(\"Grade:\" + str(i))"
   ]
  },
  {
   "cell_type": "code",
   "execution_count": 12,
   "metadata": {},
   "outputs": [
    {
     "name": "stdout",
     "output_type": "stream",
     "text": [
      "Grade: 1\n",
      "Grade: 2\n",
      "Grade: 3\n",
      "Grade: 100\n"
     ]
    }
   ],
   "source": [
    "for c in mylist:\n",
    "    print(\"Grade:\", c)"
   ]
  },
  {
   "cell_type": "code",
   "execution_count": 13,
   "metadata": {},
   "outputs": [
    {
     "name": "stdout",
     "output_type": "stream",
     "text": [
      "Grade:1\n",
      "Grade:2\n",
      "Grade:3\n",
      "Grade:100\n"
     ]
    }
   ],
   "source": [
    "for c in mylist:\n",
    "    print(\"Grade:\" + str(c))"
   ]
  },
  {
   "cell_type": "code",
   "execution_count": 14,
   "metadata": {},
   "outputs": [
    {
     "name": "stdout",
     "output_type": "stream",
     "text": [
      "Word:  a\n",
      "Word:  b\n"
     ]
    }
   ],
   "source": [
    "for z in mylist2:\n",
    "    print(\"Word: \", z)"
   ]
  },
  {
   "cell_type": "code",
   "execution_count": 15,
   "metadata": {},
   "outputs": [
    {
     "name": "stdout",
     "output_type": "stream",
     "text": [
      "Apple\n",
      "Orange\n",
      "Mango\n",
      "Lemon\n",
      "Bark\n"
     ]
    }
   ],
   "source": [
    "name_of_fruit = [\"Apple\", \"Orange\", \"Mango\", \"Lemon\", \"Bark\"]\n",
    "print(name_of_fruit[0])\n",
    "print(name_of_fruit[1])\n",
    "print(name_of_fruit[2])\n",
    "print(name_of_fruit[3])\n",
    "print(name_of_fruit[4])"
   ]
  },
  {
   "cell_type": "code",
   "execution_count": 16,
   "metadata": {},
   "outputs": [
    {
     "name": "stdout",
     "output_type": "stream",
     "text": [
      "Apple\n",
      "Orange\n",
      "Mango\n",
      "Lemon\n",
      "Bark\n"
     ]
    }
   ],
   "source": [
    "for x in name_of_fruit:\n",
    "    print(x)"
   ]
  },
  {
   "cell_type": "code",
   "execution_count": 17,
   "metadata": {},
   "outputs": [
    {
     "name": "stdout",
     "output_type": "stream",
     "text": [
      "5\n",
      "['Apple', 'Orange', 'Mango', 'Lemon', 'Bark']\n"
     ]
    }
   ],
   "source": [
    "print(len(name_of_fruit))\n",
    "print(name_of_fruit)"
   ]
  },
  {
   "cell_type": "code",
   "execution_count": 21,
   "metadata": {},
   "outputs": [
    {
     "name": "stdout",
     "output_type": "stream",
     "text": [
      "1\n",
      "2\n",
      "3\n",
      "4\n",
      "5\n",
      "6\n",
      "7\n",
      "8\n",
      "9\n",
      "10\n",
      "\n",
      "selesai\n"
     ]
    }
   ],
   "source": [
    "for y in range(1,11):\n",
    "    print(y)\n",
    "\n",
    "print(\"\\nselesai\")"
   ]
  },
  {
   "cell_type": "markdown",
   "metadata": {},
   "source": [
    "# Quiz"
   ]
  },
  {
   "cell_type": "markdown",
   "metadata": {},
   "source": [
    "#### Buatlah program kalkulator dengan menu (penjumlahan, pengurangan, perkalian, dan pembagian) dengan 'user input' dan 'conditional if'"
   ]
  },
  {
   "cell_type": "code",
   "execution_count": 27,
   "metadata": {},
   "outputs": [
    {
     "name": "stdout",
     "output_type": "stream",
     "text": [
      "\n",
      "Please type in the math operation you would like to complete:\n",
      "+ for addition\n",
      "- for subtraction\n",
      "* for multiplication\n",
      "/ for division\n",
      "+\n"
     ]
    }
   ],
   "source": [
    "operation = input('''\n",
    "Please type in the math operation you would like to complete:\n",
    "+ for addition\n",
    "- for subtraction\n",
    "* for multiplication\n",
    "/ for division\n",
    "''')"
   ]
  },
  {
   "cell_type": "code",
   "execution_count": 28,
   "metadata": {},
   "outputs": [
    {
     "name": "stdout",
     "output_type": "stream",
     "text": [
      "First number: 1\n",
      "Second number: 2\n"
     ]
    }
   ],
   "source": [
    "number1 = int(input('First number: '))\n",
    "number2 = int(input('Second number: '))"
   ]
  },
  {
   "cell_type": "code",
   "execution_count": 33,
   "metadata": {},
   "outputs": [
    {
     "name": "stdout",
     "output_type": "stream",
     "text": [
      "\n",
      "Please type in the math operation you would like to complete:\n",
      "+ for addition\n",
      "- for subtraction\n",
      "* for multiplication\n",
      "/ for division\n",
      "+\n",
      "\n",
      "First number: 1\n",
      "Second number: 2\n",
      "\n",
      "1 + 2 =  3\n"
     ]
    }
   ],
   "source": [
    "operation = input('''\n",
    "Please type in the math operation you would like to complete:\n",
    "+ for addition\n",
    "- for subtraction\n",
    "* for multiplication\n",
    "/ for division\n",
    "''')\n",
    "\n",
    "number1 = int(input('\\nFirst number: '))\n",
    "number2 = int(input('Second number: '))\n",
    "\n",
    "if operation == '+':\n",
    "    #Addition\n",
    "    print('\\n{} + {} = '.format(number1, number2), number1+number2)\n",
    "\n",
    "elif operation == '-':\n",
    "    #Subtraction\n",
    "    print('\\n{} - {} = '.format(number1, number2), number1-number2)\n",
    "\n",
    "elif operation == '*':\n",
    "    #Multiplication\n",
    "    print('\\n{} * {} = '.format(number1, number2), number1*number2)\n",
    "\n",
    "else:\n",
    "    #Division\n",
    "    print('\\n{} / {} = '.format(number1, number2),  number1/number2)"
   ]
  },
  {
   "cell_type": "code",
   "execution_count": null,
   "metadata": {},
   "outputs": [],
   "source": []
  }
 ],
 "metadata": {
  "kernelspec": {
   "display_name": "Python 3",
   "language": "python",
   "name": "python3"
  },
  "language_info": {
   "codemirror_mode": {
    "name": "ipython",
    "version": 3
   },
   "file_extension": ".py",
   "mimetype": "text/x-python",
   "name": "python",
   "nbconvert_exporter": "python",
   "pygments_lexer": "ipython3",
   "version": "3.8.5"
  }
 },
 "nbformat": 4,
 "nbformat_minor": 4
}
