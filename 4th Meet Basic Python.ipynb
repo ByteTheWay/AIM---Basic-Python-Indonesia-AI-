{
 "cells": [
  {
   "cell_type": "markdown",
   "metadata": {},
   "source": [
    "# Dictionary"
   ]
  },
  {
   "cell_type": "code",
   "execution_count": 4,
   "metadata": {},
   "outputs": [
    {
     "name": "stdout",
     "output_type": "stream",
     "text": [
      "Name: Fadhlan\n",
      "Age: 20\n"
     ]
    }
   ],
   "source": [
    "customer = {\n",
    "    'Name' : 'Fadhlan',\n",
    "    'Age': 20\n",
    "}\n",
    "\n",
    "print('Name: {}'.format(customer['Name']))\n",
    "print('Age: {}'.format(customer['Age']))"
   ]
  },
  {
   "cell_type": "code",
   "execution_count": 5,
   "metadata": {},
   "outputs": [
    {
     "name": "stdout",
     "output_type": "stream",
     "text": [
      "Name: Ridho\n",
      "Age: 19\n"
     ]
    }
   ],
   "source": [
    "customer_2 = {'Name' : 'Ridho','Age': 19}\n",
    "\n",
    "print('Name: {}'.format(customer_2['Name']))\n",
    "print('Age: {}'.format(customer_2['Age']))"
   ]
  },
  {
   "cell_type": "code",
   "execution_count": 6,
   "metadata": {},
   "outputs": [
    {
     "name": "stdout",
     "output_type": "stream",
     "text": [
      "Name: {'Name': 'Fadhlan', 'Age': 20}\n"
     ]
    }
   ],
   "source": [
    "print('Name: {}'.format(customer))"
   ]
  },
  {
   "cell_type": "code",
   "execution_count": 7,
   "metadata": {},
   "outputs": [
    {
     "name": "stdout",
     "output_type": "stream",
     "text": [
      "{'Name': 'Fadhlan', 'Age': 20}\n"
     ]
    }
   ],
   "source": [
    "print(customer)"
   ]
  },
  {
   "cell_type": "code",
   "execution_count": 20,
   "metadata": {},
   "outputs": [],
   "source": [
    "# Change value in dictionary"
   ]
  },
  {
   "cell_type": "code",
   "execution_count": 8,
   "metadata": {},
   "outputs": [
    {
     "name": "stdout",
     "output_type": "stream",
     "text": [
      "{'Name': 'Fadhlan', 'Age': 21}\n"
     ]
    }
   ],
   "source": [
    "customer ['Age'] = 21\n",
    "print(customer)"
   ]
  },
  {
   "cell_type": "code",
   "execution_count": 9,
   "metadata": {},
   "outputs": [
    {
     "name": "stdout",
     "output_type": "stream",
     "text": [
      "Name: Fadhlan\n",
      "Age: 21\n"
     ]
    }
   ],
   "source": [
    "print('Name: {}'.format(customer['Name']))\n",
    "print('Age: {}'.format(customer['Age']))"
   ]
  },
  {
   "cell_type": "code",
   "execution_count": 19,
   "metadata": {},
   "outputs": [],
   "source": [
    "# Loop dictionary"
   ]
  },
  {
   "cell_type": "code",
   "execution_count": 18,
   "metadata": {},
   "outputs": [
    {
     "name": "stdout",
     "output_type": "stream",
     "text": [
      "Name\n",
      "Age\n"
     ]
    }
   ],
   "source": [
    "for x in customer:\n",
    "    print(x)"
   ]
  },
  {
   "cell_type": "code",
   "execution_count": 11,
   "metadata": {},
   "outputs": [
    {
     "name": "stdout",
     "output_type": "stream",
     "text": [
      "Fadhlan\n",
      "21\n"
     ]
    }
   ],
   "source": [
    "for x in customer:\n",
    "    print(customer[x])"
   ]
  },
  {
   "cell_type": "code",
   "execution_count": 12,
   "metadata": {},
   "outputs": [
    {
     "name": "stdout",
     "output_type": "stream",
     "text": [
      "Name\n",
      "Fadhlan\n",
      "Age\n",
      "21\n"
     ]
    }
   ],
   "source": [
    "for x in customer:\n",
    "    print(x)\n",
    "    print(customer[x])"
   ]
  },
  {
   "cell_type": "code",
   "execution_count": 13,
   "metadata": {},
   "outputs": [
    {
     "name": "stdout",
     "output_type": "stream",
     "text": [
      "Name\n",
      "Fadhlan\n",
      "Ridho\n",
      "Age\n",
      "21\n",
      "19\n"
     ]
    }
   ],
   "source": [
    "for x in customer:\n",
    "    print(x)\n",
    "    print(customer[x])\n",
    "    print(customer_2[x])"
   ]
  },
  {
   "cell_type": "code",
   "execution_count": 17,
   "metadata": {},
   "outputs": [],
   "source": [
    "# List dictionary"
   ]
  },
  {
   "cell_type": "code",
   "execution_count": 15,
   "metadata": {},
   "outputs": [
    {
     "name": "stdout",
     "output_type": "stream",
     "text": [
      "Name: Fadhlan\n",
      "Age: 21\n",
      "Name: Ridho\n",
      "Age: 19\n"
     ]
    }
   ],
   "source": [
    "list_customer = []\n",
    "list_customer.append(customer)\n",
    "list_customer.append(customer_2)\n",
    "\n",
    "for i in list_customer:\n",
    "    print('Name: {}'.format(i['Name']))\n",
    "    print('Age: {}'.format(i['Age']))"
   ]
  },
  {
   "cell_type": "code",
   "execution_count": 16,
   "metadata": {},
   "outputs": [],
   "source": [
    "# Delete value in dictionary"
   ]
  },
  {
   "cell_type": "code",
   "execution_count": 21,
   "metadata": {},
   "outputs": [
    {
     "name": "stdout",
     "output_type": "stream",
     "text": [
      "{}\n"
     ]
    }
   ],
   "source": [
    "## clear: Delete all the entry in dictionary\n",
    "\n",
    "data = {'Name': 'Vira', 'Age': 21, 'Term': '6'}\n",
    "data.clear()\n",
    "print(data)"
   ]
  },
  {
   "cell_type": "code",
   "execution_count": 24,
   "metadata": {},
   "outputs": [
    {
     "name": "stdout",
     "output_type": "stream",
     "text": [
      "{'Name': 'Vira', 'Term': '6'}\n"
     ]
    }
   ],
   "source": [
    "## Delete: Delete specific entry in dictionary with the key\n",
    "\n",
    "data = {'Name': 'Vira', 'Age': 21, 'Term': '6'}\n",
    "del data['Age']\n",
    "print(data)"
   ]
  },
  {
   "cell_type": "code",
   "execution_count": 25,
   "metadata": {},
   "outputs": [
    {
     "ename": "NameError",
     "evalue": "name 'data' is not defined",
     "output_type": "error",
     "traceback": [
      "\u001b[1;31m---------------------------------------------------------------------------\u001b[0m",
      "\u001b[1;31mNameError\u001b[0m                                 Traceback (most recent call last)",
      "\u001b[1;32m<ipython-input-25-1193c617ef2c>\u001b[0m in \u001b[0;36m<module>\u001b[1;34m\u001b[0m\n\u001b[0;32m      1\u001b[0m \u001b[0mdata\u001b[0m \u001b[1;33m=\u001b[0m \u001b[1;33m{\u001b[0m\u001b[1;34m'Name'\u001b[0m\u001b[1;33m:\u001b[0m \u001b[1;34m'Vira'\u001b[0m\u001b[1;33m,\u001b[0m \u001b[1;34m'Age'\u001b[0m\u001b[1;33m:\u001b[0m \u001b[1;36m21\u001b[0m\u001b[1;33m,\u001b[0m \u001b[1;34m'Term'\u001b[0m\u001b[1;33m:\u001b[0m \u001b[1;34m'6'\u001b[0m\u001b[1;33m}\u001b[0m\u001b[1;33m\u001b[0m\u001b[1;33m\u001b[0m\u001b[0m\n\u001b[0;32m      2\u001b[0m \u001b[1;32mdel\u001b[0m \u001b[0mdata\u001b[0m\u001b[1;33m\u001b[0m\u001b[1;33m\u001b[0m\u001b[0m\n\u001b[1;32m----> 3\u001b[1;33m \u001b[0mprint\u001b[0m\u001b[1;33m(\u001b[0m\u001b[0mdata\u001b[0m\u001b[1;33m)\u001b[0m\u001b[1;33m\u001b[0m\u001b[1;33m\u001b[0m\u001b[0m\n\u001b[0m",
      "\u001b[1;31mNameError\u001b[0m: name 'data' is not defined"
     ]
    }
   ],
   "source": [
    "data = {'Name': 'Vira', 'Age': 21, 'Term': '6'}\n",
    "del data # It means dictionary data is already deleted and doesn't exist anymore\n",
    "print(data) # Won't show us data because it's already deteled"
   ]
  },
  {
   "cell_type": "code",
   "execution_count": 26,
   "metadata": {},
   "outputs": [],
   "source": [
    "# Choose certain keys in dictionary"
   ]
  },
  {
   "cell_type": "code",
   "execution_count": 27,
   "metadata": {},
   "outputs": [
    {
     "name": "stdout",
     "output_type": "stream",
     "text": [
      "Name\n",
      "Term\n"
     ]
    }
   ],
   "source": [
    "data2 = {'Name': 'Vira', 'Age': '21', 'Term': '6'}\n",
    "print('Name')\n",
    "print('Term')"
   ]
  },
  {
   "cell_type": "code",
   "execution_count": 30,
   "metadata": {},
   "outputs": [
    {
     "name": "stdout",
     "output_type": "stream",
     "text": [
      "Name: Vira\n",
      "Term: 6\n"
     ]
    }
   ],
   "source": [
    "data2 = {'Name': 'Vira', 'Age': '21', 'Term': '6'}\n",
    "print('Name:', data2['Name'])\n",
    "print('Term:', data2['Term'])"
   ]
  },
  {
   "cell_type": "markdown",
   "metadata": {},
   "source": [
    "# Function"
   ]
  },
  {
   "cell_type": "code",
   "execution_count": 32,
   "metadata": {},
   "outputs": [
    {
     "name": "stdout",
     "output_type": "stream",
     "text": [
      "Hello, it is only test for the function\n",
      "It is a function\n",
      "It is first attempt\n"
     ]
    }
   ],
   "source": [
    "def test_function():\n",
    "    print(\"Hello, it is only test for the function\")\n",
    "    print(\"It is a function\")\n",
    "    print(\"It is first attempt\")\n",
    "\n",
    "test_function()"
   ]
  },
  {
   "cell_type": "code",
   "execution_count": 36,
   "metadata": {},
   "outputs": [
    {
     "name": "stdout",
     "output_type": "stream",
     "text": [
      "Hello Fadhlan Adha\n",
      "Hello Ridho Alhamid\n",
      "Hello Vira Sanina\n",
      "Hello Irma Komalasari\n"
     ]
    }
   ],
   "source": [
    "def my_function(first_name, last_name = ''):\n",
    "    print(\"Hello {} {}\".format(first_name, last_name))\n",
    "    \n",
    "my_function('Fadhlan', 'Adha')\n",
    "my_function('Ridho', 'Alhamid')\n",
    "my_function('Vira', 'Sanina')\n",
    "my_function('Irma', 'Komalasari')"
   ]
  },
  {
   "cell_type": "code",
   "execution_count": 38,
   "metadata": {},
   "outputs": [
    {
     "name": "stdout",
     "output_type": "stream",
     "text": [
      "Hello  \n"
     ]
    }
   ],
   "source": [
    "def my_function(first_name = '', last_name = ''):\n",
    "    print(\"Hello {} {}\".format(first_name, last_name))\n",
    "    \n",
    "my_function()"
   ]
  },
  {
   "cell_type": "code",
   "execution_count": 39,
   "metadata": {},
   "outputs": [],
   "source": [
    "# Function keyword"
   ]
  },
  {
   "cell_type": "code",
   "execution_count": 45,
   "metadata": {},
   "outputs": [
    {
     "name": "stdout",
     "output_type": "stream",
     "text": [
      "The youngest child named Tri\n",
      "The youngest child named Mono\n"
     ]
    }
   ],
   "source": [
    "def my_function2(child3, child2, child1):\n",
    "    print('The youngest child named', child3)\n",
    "    \n",
    "my_function2(child1 = 'Mono', child2 = 'Di', child3 = 'Tri')\n",
    "my_function2('Mono', 'Di', 'Tri') # Appears only for the first value"
   ]
  },
  {
   "cell_type": "code",
   "execution_count": 7,
   "metadata": {},
   "outputs": [
    {
     "name": "stdout",
     "output_type": "stream",
     "text": [
      "Orange\n",
      "=================\n",
      "Orange\n",
      "Apple\n",
      "=================\n",
      "Orange\n",
      "Apple\n",
      "Banana\n",
      "=================\n",
      "Orange\n",
      "Apple\n",
      "Banana\n",
      "Dragon Fruit\n",
      "=================\n"
     ]
    }
   ],
   "source": [
    "fruit_name = []\n",
    "\n",
    "def add_fruit_name (name):\n",
    "    fruit_name.append(name)\n",
    "    print_fruit_name()\n",
    "    \n",
    "def print_fruit_name():\n",
    "    for y in fruit_name:\n",
    "        print(y)\n",
    "    print('=================')\n",
    "\n",
    "add_fruit_name('Orange')\n",
    "add_fruit_name('Apple')\n",
    "add_fruit_name('Banana')\n",
    "add_fruit_name('Dragon Fruit')"
   ]
  },
  {
   "cell_type": "markdown",
   "metadata": {},
   "source": [
    "# Advanced Function"
   ]
  },
  {
   "cell_type": "markdown",
   "metadata": {},
   "source": [
    "#### Create a menu chatbot with function"
   ]
  },
  {
   "cell_type": "code",
   "execution_count": 48,
   "metadata": {},
   "outputs": [],
   "source": [
    "# First Menu"
   ]
  },
  {
   "cell_type": "code",
   "execution_count": 1,
   "metadata": {
    "scrolled": true
   },
   "outputs": [
    {
     "name": "stdout",
     "output_type": "stream",
     "text": [
      "Hello, it is Jarvis from Stark Industry. I am your first assitant\n",
      "What is your name?\n",
      "Input your name: Fadhlan\n",
      "\n",
      "Hello Fadhlan\n",
      "Is there anything i can help?\n",
      " \n",
      "Please input the option you like to\n",
      "1. Your chat company\n",
      "2. Exit\n",
      "\n",
      "Input the number: 1\n",
      "Tell me what is matter?Feeling amazing\n",
      "Please tell me more: But i am feeling ashamed and terrible\n",
      "Why did you think so? \n",
      "Please tell me more: Because i am single :(\n",
      "Alright! everything will be definitely okay, dearest :D\n",
      " \n",
      "Please input the option you like to\n",
      "1. Your chat company\n",
      "2. Exit\n",
      "\n",
      "Input the number: 2\n",
      "Okay, see you later!\n",
      "====================\n"
     ]
    }
   ],
   "source": [
    "def show_option():\n",
    "    print('Please input the option you like to')\n",
    "    print('1. Your chat company')\n",
    "    print('2. Exit')\n",
    "\n",
    "# Introduction\n",
    "print('Hello, it is Jarvis from Stark Industry. I am your first assitant')\n",
    "print('What is your name?')\n",
    "\n",
    "name = input('Input your name: ')\n",
    "\n",
    "print(\"\\nHello {}\".format(name))\n",
    "print('Is there anything i can help?')\n",
    "\n",
    "# Showing first option\n",
    "while True:\n",
    "    print(' ')\n",
    "    show_option()\n",
    "    first_option = input('\\nInput the number: ')\n",
    "    \n",
    "    if first_option == '1':\n",
    "        input('Tell me what is matter?')\n",
    "        while True:\n",
    "                story = input('Please tell me more: ')\n",
    "                \n",
    "                if 'stupid' in story or 'failed' in story or 'losed' in story or 'terrible' in story:\n",
    "                    print('Why did you think so? ')\n",
    "                elif 'dissapointed' in story or 'sorrow' in story or 'hopeless' in story:\n",
    "                    print('How long have you been feeling like this? ')\n",
    "                elif 'happy' in story or 'delighted' in story or 'awesome' in story:\n",
    "                    print('That is amazing, glad to hear that!')\n",
    "                else:\n",
    "                    print('Alright! everything will be definitely okay, dearest', ':D')\n",
    "                    break\n",
    "    elif first_option == '2':\n",
    "        print('Okay, see you later!')\n",
    "        print('====================')\n",
    "        break\n",
    "    else:\n",
    "        print(\"Sorry, i do not understand what you want to\")\n",
    "        print('')"
   ]
  },
  {
   "cell_type": "code",
   "execution_count": 2,
   "metadata": {},
   "outputs": [],
   "source": [
    "# Return value"
   ]
  },
  {
   "cell_type": "code",
   "execution_count": 3,
   "metadata": {
    "scrolled": true
   },
   "outputs": [
    {
     "data": {
      "text/plain": [
       "9"
      ]
     },
     "execution_count": 3,
     "metadata": {},
     "output_type": "execute_result"
    }
   ],
   "source": [
    "def total (x,y):\n",
    "    total = x + y\n",
    "    return total\n",
    "    \n",
    "total (5,4)"
   ]
  },
  {
   "cell_type": "code",
   "execution_count": 4,
   "metadata": {},
   "outputs": [
    {
     "data": {
      "text/plain": [
       "19"
      ]
     },
     "execution_count": 4,
     "metadata": {},
     "output_type": "execute_result"
    }
   ],
   "source": [
    "total (9,10)"
   ]
  },
  {
   "cell_type": "code",
   "execution_count": 5,
   "metadata": {},
   "outputs": [
    {
     "data": {
      "text/plain": [
       "100"
      ]
     },
     "execution_count": 5,
     "metadata": {},
     "output_type": "execute_result"
    }
   ],
   "source": [
    "def total (x,y):\n",
    "    total = x + y\n",
    "    return 100 # what ever the values are, it will back to return's value\n",
    "    \n",
    "total (5,4)"
   ]
  },
  {
   "cell_type": "code",
   "execution_count": 8,
   "metadata": {},
   "outputs": [
    {
     "name": "stdout",
     "output_type": "stream",
     "text": [
      "14\n"
     ]
    }
   ],
   "source": [
    "def total (x,y):\n",
    "    total = x + y\n",
    "    return total\n",
    "    \n",
    "def total_fruit_remains():\n",
    "    return 10\n",
    "\n",
    "total_fruit = len(fruit_name) + total_fruit_remains()\n",
    "print(total_fruit)"
   ]
  },
  {
   "cell_type": "code",
   "execution_count": 9,
   "metadata": {},
   "outputs": [],
   "source": [
    "# Calculate the area of square"
   ]
  },
  {
   "cell_type": "code",
   "execution_count": 4,
   "metadata": {},
   "outputs": [
    {
     "data": {
      "text/plain": [
       "4"
      ]
     },
     "execution_count": 4,
     "metadata": {},
     "output_type": "execute_result"
    }
   ],
   "source": [
    "def square_area(side):\n",
    "    area = side*side\n",
    "    return area\n",
    "\n",
    "square_area(2)"
   ]
  },
  {
   "cell_type": "code",
   "execution_count": 5,
   "metadata": {},
   "outputs": [
    {
     "data": {
      "text/plain": [
       "8"
      ]
     },
     "execution_count": 5,
     "metadata": {},
     "output_type": "execute_result"
    }
   ],
   "source": [
    "def volume(side):\n",
    "    volume = square_area(side)*side\n",
    "    return volume\n",
    "\n",
    "volume(2)"
   ]
  }
 ],
 "metadata": {
  "kernelspec": {
   "display_name": "Python 3",
   "language": "python",
   "name": "python3"
  },
  "language_info": {
   "codemirror_mode": {
    "name": "ipython",
    "version": 3
   },
   "file_extension": ".py",
   "mimetype": "text/x-python",
   "name": "python",
   "nbconvert_exporter": "python",
   "pygments_lexer": "ipython3",
   "version": "3.8.5"
  }
 },
 "nbformat": 4,
 "nbformat_minor": 4
}
