{
 "cells": [
  {
   "cell_type": "markdown",
   "metadata": {},
   "source": [
    "# Modules"
   ]
  },
  {
   "cell_type": "code",
   "execution_count": 2,
   "metadata": {},
   "outputs": [],
   "source": [
    "def greeting(name):\n",
    "    print('Hello, ' + name)"
   ]
  },
  {
   "cell_type": "code",
   "execution_count": 2,
   "metadata": {},
   "outputs": [],
   "source": [
    "# Date time"
   ]
  },
  {
   "cell_type": "code",
   "execution_count": 3,
   "metadata": {},
   "outputs": [
    {
     "name": "stdout",
     "output_type": "stream",
     "text": [
      "2021-02-28 10:49:37.247797\n",
      "2021\n",
      "A = Sunday\n",
      "a = Sun\n",
      "w = 0\n",
      "d = 28\n",
      "b = Feb\n",
      "B = February\n",
      "m = 02\n",
      "y = 21\n",
      "Y = 2021\n",
      "H = 10\n",
      "I = 10\n",
      "p = AM\n",
      "M = 49\n",
      "S = 37\n",
      "f = 247797\n",
      "j = 059\n",
      "U = 09\n",
      "W = 08\n",
      "c = Sun Feb 28 10:49:37 2021\n",
      "x = 02/28/21\n",
      "X = 10:49:37\n"
     ]
    }
   ],
   "source": [
    "import datetime\n",
    "\n",
    "x = datetime.datetime.now()\n",
    "print(x)\n",
    "print(x.year)\n",
    "print(\"A = \" + x.strftime(\"%A\"))\n",
    "print(\"a = \" + x.strftime(\"%a\"))\n",
    "print(\"w = \" + x.strftime(\"%w\"))\n",
    "print(\"d = \" + x.strftime(\"%d\"))\n",
    "print(\"b = \" + x.strftime(\"%b\"))\n",
    "print(\"B = \" + x.strftime(\"%B\"))\n",
    "print(\"m = \" + x.strftime(\"%m\"))\n",
    "print(\"y = \" + x.strftime(\"%y\"))\n",
    "print(\"Y = \" + x.strftime(\"%Y\"))\n",
    "print(\"H = \" + x.strftime(\"%H\"))\n",
    "print(\"I = \" + x.strftime(\"%I\"))\n",
    "print(\"p = \" + x.strftime(\"%p\"))\n",
    "print(\"M = \" + x.strftime(\"%M\"))\n",
    "print(\"S = \" + x.strftime(\"%S\"))\n",
    "print(\"f = \" + x.strftime(\"%f\"))\n",
    "print(\"j = \" + x.strftime(\"%j\"))\n",
    "print(\"U = \" + x.strftime(\"%U\"))\n",
    "print(\"W = \" + x.strftime(\"%W\"))\n",
    "print(\"c = \" + x.strftime(\"%c\"))\n",
    "print(\"x = \" + x.strftime(\"%x\"))\n",
    "print(\"X = \" + x.strftime(\"%X\"))"
   ]
  },
  {
   "cell_type": "code",
   "execution_count": 4,
   "metadata": {},
   "outputs": [],
   "source": [
    "# Setting manual data in datetime format"
   ]
  },
  {
   "cell_type": "code",
   "execution_count": 6,
   "metadata": {},
   "outputs": [
    {
     "name": "stdout",
     "output_type": "stream",
     "text": [
      "2031-03-18\n",
      "March\n",
      "12:03:18\n"
     ]
    }
   ],
   "source": [
    "y = datetime.date(2031, 3, 18)\n",
    "print(y)\n",
    "print(y.strftime(\"%B\"))\n",
    "\n",
    "z = datetime.time(12, 3, 18)\n",
    "print(z)"
   ]
  },
  {
   "cell_type": "code",
   "execution_count": 7,
   "metadata": {},
   "outputs": [
    {
     "name": "stdout",
     "output_type": "stream",
     "text": [
      "2021-02-28 10:54:45.362375\n",
      "28-02-2021\n"
     ]
    }
   ],
   "source": [
    "import datetime\n",
    "\n",
    "x = datetime.datetime.now()\n",
    "print(x)\n",
    "print(x.strftime(\"%d-%m-%Y\"))"
   ]
  },
  {
   "cell_type": "code",
   "execution_count": 8,
   "metadata": {},
   "outputs": [
    {
     "name": "stdout",
     "output_type": "stream",
     "text": [
      "Sunday\n"
     ]
    }
   ],
   "source": [
    "day = x.strftime(\"%A\")\n",
    "print(day)"
   ]
  },
  {
   "cell_type": "code",
   "execution_count": 9,
   "metadata": {},
   "outputs": [
    {
     "name": "stdout",
     "output_type": "stream",
     "text": [
      "Minggu\n"
     ]
    }
   ],
   "source": [
    "day_indonesian = {\"Sunday\": \"Minggu\", \"Monday\": \"Senin\", \"Tuesday\": \"Selasa\", \"Wednesday\": \"Rabu\",\n",
    "                  \"Thursday\": \"Kamis\", \"Friday\": \"Jumat\", \"Saturday\": \"Sabtu\"}\n",
    "\n",
    "print(\"{}\".format(day_indonesian[day]))"
   ]
  },
  {
   "cell_type": "code",
   "execution_count": 10,
   "metadata": {},
   "outputs": [],
   "source": [
    "# Math"
   ]
  },
  {
   "cell_type": "code",
   "execution_count": 11,
   "metadata": {},
   "outputs": [
    {
     "name": "stdout",
     "output_type": "stream",
     "text": [
      "3.141592653589793\n"
     ]
    }
   ],
   "source": [
    "import math\n",
    "\n",
    "x = math.pi\n",
    "print(x)"
   ]
  },
  {
   "cell_type": "code",
   "execution_count": 12,
   "metadata": {},
   "outputs": [
    {
     "name": "stdout",
     "output_type": "stream",
     "text": [
      "513.6350844714563\n"
     ]
    }
   ],
   "source": [
    "y = math.sqrt(263821)\n",
    "print(y)"
   ]
  },
  {
   "cell_type": "code",
   "execution_count": 23,
   "metadata": {},
   "outputs": [
    {
     "name": "stdout",
     "output_type": "stream",
     "text": [
      "8\n"
     ]
    }
   ],
   "source": [
    "z = math.ceil(7.1)\n",
    "print(z)"
   ]
  },
  {
   "cell_type": "code",
   "execution_count": 28,
   "metadata": {},
   "outputs": [
    {
     "name": "stdout",
     "output_type": "stream",
     "text": [
      "-8\n"
     ]
    }
   ],
   "source": [
    "v = math.floor(-7.1)\n",
    "print(v)"
   ]
  },
  {
   "cell_type": "code",
   "execution_count": 31,
   "metadata": {},
   "outputs": [
    {
     "name": "stdout",
     "output_type": "stream",
     "text": [
      "2.0\n"
     ]
    }
   ],
   "source": [
    "u = math.fmod(20,3)\n",
    "print(u)"
   ]
  },
  {
   "cell_type": "markdown",
   "metadata": {},
   "source": [
    "# File Handling"
   ]
  },
  {
   "cell_type": "code",
   "execution_count": 32,
   "metadata": {},
   "outputs": [],
   "source": [
    "# Create a file\n",
    "# Write and append"
   ]
  },
  {
   "cell_type": "code",
   "execution_count": 97,
   "metadata": {},
   "outputs": [],
   "source": [
    "f = open(\"Test A New File.txt\", \"a\") # After running this, a new file added and saved automatically\n",
    "f.write(\"Hey, this is a new file\")\n",
    "f.close()"
   ]
  },
  {
   "cell_type": "code",
   "execution_count": 100,
   "metadata": {},
   "outputs": [
    {
     "name": "stdout",
     "output_type": "stream",
     "text": [
      "Hey, this is a new file\n",
      "You wrote a note inside a new file and this is the result\n"
     ]
    }
   ],
   "source": [
    "f = open(\"Test A New File.txt\", \"r\")\n",
    "print(f.read()) # This action is to read what's inside a new file"
   ]
  },
  {
   "cell_type": "code",
   "execution_count": 99,
   "metadata": {},
   "outputs": [],
   "source": [
    "f = open(\"Test A New File.txt\", \"a\")\n",
    "f.write(\"\\nYou wrote a note inside a new file and this is the result\")\n",
    "f.close()"
   ]
  },
  {
   "cell_type": "code",
   "execution_count": 101,
   "metadata": {},
   "outputs": [],
   "source": [
    "f = open(\"Test A New File.txt\", \"w\")\n",
    "f.write(\"Trying to overwrite\\nTrying to overwrite 2nd row\")\n",
    "f.close()"
   ]
  },
  {
   "cell_type": "code",
   "execution_count": 102,
   "metadata": {},
   "outputs": [
    {
     "name": "stdout",
     "output_type": "stream",
     "text": [
      "Trying to overwrite\n",
      "Trying to overwrite 2nd row\n"
     ]
    }
   ],
   "source": [
    "f = open(\"Test A New File.txt\", \"r\")\n",
    "print(f.read())"
   ]
  },
  {
   "cell_type": "code",
   "execution_count": 103,
   "metadata": {},
   "outputs": [
    {
     "name": "stdout",
     "output_type": "stream",
     "text": [
      "Trying to over\n"
     ]
    }
   ],
   "source": [
    "f = open(\"Test A New File.txt\", \"r\")\n",
    "print(f.read(14))"
   ]
  },
  {
   "cell_type": "code",
   "execution_count": 104,
   "metadata": {},
   "outputs": [
    {
     "name": "stdout",
     "output_type": "stream",
     "text": [
      "Trying to overwrite\n",
      "\n"
     ]
    }
   ],
   "source": [
    "f = open(\"Test A New File.txt\", \"r\")\n",
    "print(f.readline())\n",
    "f.close()"
   ]
  },
  {
   "cell_type": "code",
   "execution_count": 105,
   "metadata": {},
   "outputs": [],
   "source": [
    "# Remove file"
   ]
  },
  {
   "cell_type": "code",
   "execution_count": 106,
   "metadata": {},
   "outputs": [],
   "source": [
    "import os\n",
    "os.remove(\"Test A New File.txt\") #Automatically delete the file"
   ]
  },
  {
   "cell_type": "code",
   "execution_count": 107,
   "metadata": {},
   "outputs": [
    {
     "name": "stdout",
     "output_type": "stream",
     "text": [
      "File doesn't exist\n"
     ]
    }
   ],
   "source": [
    "import os\n",
    "file_path = \"Test A New File.txt\"\n",
    "\n",
    "if os.path.exists(file_path):\n",
    "    os.remove(file_path)\n",
    "    print(\"File\",file_path, \"deleted\")\n",
    "else:\n",
    "    print(\"File doesn't exist\") #To ensure that the file is already deleted"
   ]
  },
  {
   "cell_type": "code",
   "execution_count": 108,
   "metadata": {},
   "outputs": [],
   "source": [
    "# File Handling"
   ]
  },
  {
   "cell_type": "code",
   "execution_count": 13,
   "metadata": {},
   "outputs": [
    {
     "name": "stdout",
     "output_type": "stream",
     "text": [
      "Welcome!\n",
      "\n",
      "--- Menu ---\n",
      "1. Contact List\n",
      "2. Add Contact\n",
      "3. Exit\n",
      "\n",
      "Choose Menu: 1\n",
      "\n",
      "Contact List:\n",
      "=================================\n",
      "Contact list is empty!\n",
      "Please add new contact\n",
      "=================================\n",
      "\n",
      "--- Menu ---\n",
      "1. Contact List\n",
      "2. Add Contact\n",
      "3. Exit\n",
      "\n",
      "Choose Menu: 2\n",
      "Name: Fadhlan\n",
      "Phone Number: 08139131803\n",
      "\n",
      "===========================\n",
      "Contact is successfully added\n",
      "===========================\n",
      "\n",
      "--- Menu ---\n",
      "1. Contact List\n",
      "2. Add Contact\n",
      "3. Exit\n",
      "\n",
      "Choose Menu: 2\n",
      "Name: Kanye\n",
      "Phone Number: 08131403999\n",
      "\n",
      "===========================\n",
      "Contact is successfully added\n",
      "===========================\n",
      "\n",
      "--- Menu ---\n",
      "1. Contact List\n",
      "2. Add Contact\n",
      "3. Exit\n",
      "\n",
      "Choose Menu: 3\n",
      "\n",
      "Program is over, see you later!\n",
      "================================\n"
     ]
    }
   ],
   "source": [
    "print(\"Welcome!\")\n",
    "\n",
    "contact_name = []\n",
    "contact_number = []\n",
    "\n",
    "def show_menu():\n",
    "    print(\"\\n--- Menu ---\")\n",
    "    print(\"1. Contact List\")\n",
    "    print(\"2. Add Contact\")\n",
    "    print(\"3. Exit\")\n",
    "\n",
    "def show_contact():\n",
    "    print(\"\\nContact List:\")\n",
    "    for i in range (len(contact_name)):\n",
    "        print(\"Name: {}\".format(contact_name[i]))\n",
    "        print(\"Phone Number: {}\".format(contact_number[i]))\n",
    "\n",
    "def add_contact():\n",
    "    name = input(\"Name: \")\n",
    "    phone = input(\"Phone Number: \")\n",
    "    contact_name.append(name)\n",
    "    contact_number.append(phone)\n",
    "    print(\"\\n===========================\")\n",
    "    print(\"Contact is successfully added\")\n",
    "    print(\"===========================\")\n",
    "\n",
    "def empty_contact():\n",
    "    if not contact_name:\n",
    "        print(\"=================================\")\n",
    "        print (\"Contact list is empty!\\nPlease add new contact\")\n",
    "        print(\"=================================\")\n",
    "\n",
    "def create_contactlist():\n",
    "    f = open (\"Contact List.txt\", \"w\")\n",
    "    for x in range(len(contact_name)):\n",
    "        f.write(\"Name: {} \\nPhone Number: {}\\n\".format(contact_name[x], contact_number[x]))\n",
    "    f.close()\n",
    "    \n",
    "while True:\n",
    "\n",
    "    show_menu()\n",
    "\n",
    "    menu = input(\"\\nChoose Menu: \")\n",
    "\n",
    "    if menu == \"1\":\n",
    "        show_contact()\n",
    "        empty_contact()\n",
    "    elif menu == \"2\":\n",
    "        add_contact()\n",
    "    elif menu == \"3\":\n",
    "        print(\"\\nProgram is over, see you later!\")\n",
    "        print(\"================================\")\n",
    "        create_contactlist()\n",
    "        break\n",
    "    else:\n",
    "        print(\"Menu is not exist\")"
   ]
  },
  {
   "cell_type": "code",
   "execution_count": 14,
   "metadata": {},
   "outputs": [],
   "source": [
    "# Math modules"
   ]
  },
  {
   "cell_type": "code",
   "execution_count": 3,
   "metadata": {},
   "outputs": [
    {
     "name": "stdout",
     "output_type": "stream",
     "text": [
      " \n",
      "Calculation Menu:\n",
      "1. Sine\n",
      "2. Cosine\n",
      "3. Tangent\n",
      "4. Exit\n",
      "Please choose the menu (numbers only): 1\n",
      "Insert a number: 45\n",
      "Sine value 45 = 0.85\n",
      "===================\n",
      " \n",
      "Calculation Menu:\n",
      "1. Sine\n",
      "2. Cosine\n",
      "3. Tangent\n",
      "4. Exit\n",
      "Please choose the menu (numbers only): 2\n",
      "Insert a number: 45\n",
      "Cos value 45 = 0.53\n",
      "===================\n",
      " \n",
      "Calculation Menu:\n",
      "1. Sine\n",
      "2. Cosine\n",
      "3. Tangent\n",
      "4. Exit\n",
      "Please choose the menu (numbers only): 3\n",
      "Insert a number: 19\n",
      "Tangent value 19 = 0.15\n",
      "===================\n",
      " \n",
      "Calculation Menu:\n",
      "1. Sine\n",
      "2. Cosine\n",
      "3. Tangent\n",
      "4. Exit\n",
      "Please choose the menu (numbers only): 4\n",
      "\n",
      " Thank you for using this calculator\n"
     ]
    }
   ],
   "source": [
    "import math\n",
    "\n",
    "def show_calculator():\n",
    "    print(\"Calculation Menu:\")\n",
    "    print(\"1. Sine\")\n",
    "    print(\"2. Cosine\")\n",
    "    print(\"3. Tangent\")\n",
    "    print(\"4. Exit\")\n",
    "\n",
    "while True:\n",
    "    print(\" \")\n",
    "    show_calculator()\n",
    "    \n",
    "    operation = input(\"Please choose the menu (numbers only): \")\n",
    "    if operation == \"1\":\n",
    "        x = int(input(\"Insert a number: \"))\n",
    "        print(\"Sine value {} =\".format(x), round(math.sin(x), 2))\n",
    "        print(\"===================\")\n",
    "    elif operation == \"2\":\n",
    "        y = int(input(\"Insert a number: \"))\n",
    "        print(\"Cos value {} =\".format(y), round(math.cos(y), 2))\n",
    "        print(\"===================\")\n",
    "    elif operation == \"3\":\n",
    "        z = int(input(\"Insert a number: \"))\n",
    "        print(\"Tangent value {} =\".format(z), round(math.tan(z), 2))\n",
    "        print(\"===================\")\n",
    "    elif operation == \"4\":\n",
    "        print(\"\\n Thank you for using this calculator\")\n",
    "        break\n",
    "    else:\n",
    "        print(\"Sorry, your input is invalid\")\n",
    "        print(\"===================\")"
   ]
  },
  {
   "cell_type": "code",
   "execution_count": null,
   "metadata": {},
   "outputs": [],
   "source": []
  }
 ],
 "metadata": {
  "kernelspec": {
   "display_name": "Python 3",
   "language": "python",
   "name": "python3"
  },
  "language_info": {
   "codemirror_mode": {
    "name": "ipython",
    "version": 3
   },
   "file_extension": ".py",
   "mimetype": "text/x-python",
   "name": "python",
   "nbconvert_exporter": "python",
   "pygments_lexer": "ipython3",
   "version": "3.8.5"
  }
 },
 "nbformat": 4,
 "nbformat_minor": 4
}
