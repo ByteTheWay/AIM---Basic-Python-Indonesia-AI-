{
 "cells": [
  {
   "cell_type": "markdown",
   "metadata": {},
   "source": [
    "#### Mentee: Fadhlan Adha --- Basic Python A (AIM Batch 4)"
   ]
  },
  {
   "cell_type": "markdown",
   "metadata": {},
   "source": [
    "# Assignment #1"
   ]
  },
  {
   "cell_type": "markdown",
   "metadata": {},
   "source": [
    "### Question 1"
   ]
  },
  {
   "cell_type": "code",
   "execution_count": 3,
   "metadata": {},
   "outputs": [
    {
     "name": "stdout",
     "output_type": "stream",
     "text": [
      "Insert your name: Fadhlan\n",
      "Insert your age: 20\n",
      "Insert your height (cm): 174\n",
      "Nama saya Fadhlan, umur saya 20 tahun dan tinggi saya 174 cm.\n"
     ]
    }
   ],
   "source": [
    "# Assume that it is a system that can help foreigners abroad (user)\n",
    "# to introduce themselves to indonesian\n",
    "\n",
    "# User input:\n",
    "name = input(\"Insert your name: \")\n",
    "age = input(\"Insert your age: \")\n",
    "height = input(\"Insert your height (cm): \")\n",
    "\n",
    "# System output:\n",
    "print(\"Nama saya\" + \" \" + name + \", umur saya\" + \" \" + age + \" \" + \"tahun dan tinggi saya\" + \" \" + height + \" \" + \"cm.\")"
   ]
  },
  {
   "cell_type": "markdown",
   "metadata": {},
   "source": [
    "### Question 2"
   ]
  },
  {
   "cell_type": "code",
   "execution_count": 1,
   "metadata": {},
   "outputs": [
    {
     "name": "stdout",
     "output_type": "stream",
     "text": [
      "Hello! It's Siri. I can calculate the circle's area very quick! try me.\n",
      "What radius do you have in cm? 10\n",
      "The circle's area with a radius of 10 cm is 314.2857142857143 cm².\n"
     ]
    }
   ],
   "source": [
    "# Assume that we have a calculator that can calculates its circle's area by means of its radius\n",
    "# We have:\n",
    "# pi = 22/7\n",
    "# r = the radius of the circle\n",
    "# Area = (pi)(r)2\n",
    "\n",
    "# Introduction:\n",
    "print(\"Hello! It's Siri. I can calculate the circle's area very quick! try me.\")\n",
    "\n",
    "# User input:\n",
    "r = int(input(\"What radius do you have in cm? \"))\n",
    "\n",
    "# System output:\n",
    "pi = 22/7\n",
    "print(\"The circle's area with a radius of \" + str(r) + \" cm is \" + str(pi * r**2) + \" cm\\u00b2\" + \".\")"
   ]
  },
  {
   "cell_type": "code",
   "execution_count": 6,
   "metadata": {},
   "outputs": [
    {
     "name": "stdout",
     "output_type": "stream",
     "text": [
      "The circle's area with a radius of 10 cm is 314.29 cm².\n",
      "The circle's area with a radius of 10 cm is 314.29 cm²\n"
     ]
    }
   ],
   "source": [
    "# Bonus\n",
    "# Change resulting format into 2 decimal digits\n",
    "\n",
    "print(\"The circle's area with a radius of \" + str(r) + \" cm is %.2f \" %(pi * r**2) + \"cm\" + \"\\u00b2\" + \".\")\n",
    "\n",
    "# or might be\n",
    "area1 = pi*r*r\n",
    "area2 = round(area1,2)\n",
    "print(\"The circle's area with a radius of\", r, \"cm is\", area2, \"cm\\u00b2\")"
   ]
  },
  {
   "cell_type": "markdown",
   "metadata": {},
   "source": [
    "### Question 3"
   ]
  },
  {
   "cell_type": "code",
   "execution_count": 44,
   "metadata": {},
   "outputs": [
    {
     "name": "stdout",
     "output_type": "stream",
     "text": [
      "Insert the theoretical exam's result: 69\n",
      "Insert the practical exam's result: 80\n",
      "I am sorry, you have to reexam the theory\n"
     ]
    }
   ],
   "source": [
    "# Assume that we have a reinforcement system that can\n",
    "# inform us whether the student is passed or otherwise\n",
    "# only by the theoretical and practical exam\n",
    "\n",
    "t = float(input(\"Insert the theoretical exam's result: \"))\n",
    "p = float(input(\"Insert the practical exam's result: \"))\n",
    "\n",
    "if t >= 70 and p >= 70:\n",
    "    print(\"Congratulation, you're passed!\")\n",
    "elif t >= 70 and p < 70:\n",
    "    print(\"I am sorry, you have to reexam the practical\")\n",
    "elif t < 70 and p >= 70:\n",
    "    print(\"I am sorry, you have to reexam the theory\")\n",
    "else:\n",
    "    print(\"I am sorry, you have to reexam both theory and practical\")"
   ]
  }
 ],
 "metadata": {
  "kernelspec": {
   "display_name": "Python 3",
   "language": "python",
   "name": "python3"
  },
  "language_info": {
   "codemirror_mode": {
    "name": "ipython",
    "version": 3
   },
   "file_extension": ".py",
   "mimetype": "text/x-python",
   "name": "python",
   "nbconvert_exporter": "python",
   "pygments_lexer": "ipython3",
   "version": "3.8.5"
  }
 },
 "nbformat": 4,
 "nbformat_minor": 4
}
