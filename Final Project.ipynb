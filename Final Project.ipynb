{
 "cells": [
  {
   "cell_type": "markdown",
   "metadata": {},
   "source": [
    "# Final Project\n",
    "Create a program to send e-mail to the receivers"
   ]
  },
  {
   "cell_type": "code",
   "execution_count": 30,
   "metadata": {},
   "outputs": [
    {
     "name": "stdout",
     "output_type": "stream",
     "text": [
      "Messages are successfully sent.\n"
     ]
    }
   ],
   "source": [
    "import smtplib\n",
    "import os\n",
    "\n",
    "from email.message import EmailMessage\n",
    "\n",
    "sender_id = 'snow87109@gmail.com'\n",
    "sender_pass = 'thisistestingsender1'\n",
    "\n",
    "receivers = open('receiver_list.txt','r+')\n",
    "\n",
    "msg = EmailMessage()\n",
    "msg['Subject'] = 'Lab Session Scores Announcement'\n",
    "msg['From'] = sender_id\n",
    "msg['To'] = [i.strip() for i in receivers.readlines()]\n",
    "msg.set_content('Congratulations! You have passed the Lab Session in this semester. Go check your grades in here:')\n",
    "\n",
    "files = ['Lab Session Grades.pdf']\n",
    "for file in files:\n",
    "    with open(file, 'rb') as m:\n",
    "        file_data = m.read()\n",
    "        file_name = m.name\n",
    "\n",
    "msg.add_attachment(file_data, maintype = 'pdf', subtype = 'octet-stream', filename = file_name)\n",
    "\n",
    "with smtplib.SMTP_SSL('smtp.gmail.com', 465) as smtp:\n",
    "    smtp.login(sender_id, sender_pass)\n",
    "    smtp.send_message(msg)\n",
    "\n",
    "print('Messages are successfully sent.')\n",
    "    \n",
    "    \n",
    "# Reference:\n",
    "# https://www.youtube.com/watch?v=CBuu17j_WnA\n",
    "# https://stackoverflow.com/questions/22120330/send-email-to-recipient-from-txt-in-python-3-3"
   ]
  },
  {
   "cell_type": "code",
   "execution_count": null,
   "metadata": {},
   "outputs": [],
   "source": []
  }
 ],
 "metadata": {
  "kernelspec": {
   "display_name": "Python 3",
   "language": "python",
   "name": "python3"
  },
  "language_info": {
   "codemirror_mode": {
    "name": "ipython",
    "version": 3
   },
   "file_extension": ".py",
   "mimetype": "text/x-python",
   "name": "python",
   "nbconvert_exporter": "python",
   "pygments_lexer": "ipython3",
   "version": "3.8.5"
  }
 },
 "nbformat": 4,
 "nbformat_minor": 4
}
